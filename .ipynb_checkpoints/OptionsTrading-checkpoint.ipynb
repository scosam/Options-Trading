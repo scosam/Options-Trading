{
 "cells": [
  {
   "cell_type": "markdown",
   "metadata": {},
   "source": [
    "## Install Libraries"
   ]
  },
  {
   "cell_type": "code",
   "execution_count": 2,
   "metadata": {},
   "outputs": [],
   "source": [
    "import urllib\n",
    "import pandas as pd\n",
    "import pandas_datareader as pdr\n",
    "import requests\n",
    "from bs4 import BeautifulSoup\n",
    "import yfinance as yf"
   ]
  },
  {
   "cell_type": "markdown",
   "metadata": {},
   "source": [
    "## Get List of Stock Tickers"
   ]
  },
  {
   "cell_type": "code",
   "execution_count": 3,
   "metadata": {},
   "outputs": [],
   "source": [
    "url = \"http://ftp.nasdaqtrader.com/dynamic/SymDir/nasdaqlisted.txt\"\n",
    "file = urllib.request.urlopen(url)\n",
    "symbols = []\n",
    "for line in file:\n",
    "    decoded_line = line.decode(\"utf-8\")\n",
    "    sym_info = decoded_line.split('|')\n",
    "    symbols.append(sym_info)"
   ]
  },
  {
   "cell_type": "code",
   "execution_count": 4,
   "metadata": {},
   "outputs": [
    {
     "data": {
      "text/html": [
       "<div>\n",
       "<style scoped>\n",
       "    .dataframe tbody tr th:only-of-type {\n",
       "        vertical-align: middle;\n",
       "    }\n",
       "\n",
       "    .dataframe tbody tr th {\n",
       "        vertical-align: top;\n",
       "    }\n",
       "\n",
       "    .dataframe thead th {\n",
       "        text-align: right;\n",
       "    }\n",
       "</style>\n",
       "<table border=\"1\" class=\"dataframe\">\n",
       "  <thead>\n",
       "    <tr style=\"text-align: right;\">\n",
       "      <th></th>\n",
       "      <th>Symbol</th>\n",
       "      <th>Security Name</th>\n",
       "      <th>Market Category</th>\n",
       "      <th>ETF</th>\n",
       "    </tr>\n",
       "  </thead>\n",
       "  <tbody>\n",
       "    <tr>\n",
       "      <th>0</th>\n",
       "      <td>AACG</td>\n",
       "      <td>ATA Creativity Global - American Depositary Sh...</td>\n",
       "      <td>G</td>\n",
       "      <td>N</td>\n",
       "    </tr>\n",
       "    <tr>\n",
       "      <th>1</th>\n",
       "      <td>AACI</td>\n",
       "      <td>Armada Acquisition Corp. I - Common Stock</td>\n",
       "      <td>G</td>\n",
       "      <td>N</td>\n",
       "    </tr>\n",
       "    <tr>\n",
       "      <th>2</th>\n",
       "      <td>AACIU</td>\n",
       "      <td>Armada Acquisition Corp. I - Unit</td>\n",
       "      <td>G</td>\n",
       "      <td>N</td>\n",
       "    </tr>\n",
       "    <tr>\n",
       "      <th>3</th>\n",
       "      <td>AACIW</td>\n",
       "      <td>Armada Acquisition Corp. I - Warrant</td>\n",
       "      <td>G</td>\n",
       "      <td>N</td>\n",
       "    </tr>\n",
       "    <tr>\n",
       "      <th>4</th>\n",
       "      <td>AADI</td>\n",
       "      <td>Aadi Bioscience, Inc. - Common Stock</td>\n",
       "      <td>S</td>\n",
       "      <td>N</td>\n",
       "    </tr>\n",
       "    <tr>\n",
       "      <th>...</th>\n",
       "      <td>...</td>\n",
       "      <td>...</td>\n",
       "      <td>...</td>\n",
       "      <td>...</td>\n",
       "    </tr>\n",
       "    <tr>\n",
       "      <th>5677</th>\n",
       "      <td>ZWRKU</td>\n",
       "      <td>Z-Work Acquisition Corp. - Units</td>\n",
       "      <td>S</td>\n",
       "      <td>N</td>\n",
       "    </tr>\n",
       "    <tr>\n",
       "      <th>5678</th>\n",
       "      <td>ZWRKW</td>\n",
       "      <td>Z-Work Acquisition Corp. - Warrant</td>\n",
       "      <td>S</td>\n",
       "      <td>N</td>\n",
       "    </tr>\n",
       "    <tr>\n",
       "      <th>5682</th>\n",
       "      <td>ZY</td>\n",
       "      <td>Zymergen Inc. - Common Stock</td>\n",
       "      <td>Q</td>\n",
       "      <td>N</td>\n",
       "    </tr>\n",
       "    <tr>\n",
       "      <th>5683</th>\n",
       "      <td>ZYNE</td>\n",
       "      <td>Zynerba Pharmaceuticals, Inc. - Common Stock</td>\n",
       "      <td>G</td>\n",
       "      <td>N</td>\n",
       "    </tr>\n",
       "    <tr>\n",
       "      <th>5684</th>\n",
       "      <td>ZYXI</td>\n",
       "      <td>Zynex, Inc. - Common Stock</td>\n",
       "      <td>Q</td>\n",
       "      <td>N</td>\n",
       "    </tr>\n",
       "  </tbody>\n",
       "</table>\n",
       "<p>5399 rows × 4 columns</p>\n",
       "</div>"
      ],
      "text/plain": [
       "     Symbol                                      Security Name  \\\n",
       "0      AACG  ATA Creativity Global - American Depositary Sh...   \n",
       "1      AACI          Armada Acquisition Corp. I - Common Stock   \n",
       "2     AACIU                  Armada Acquisition Corp. I - Unit   \n",
       "3     AACIW               Armada Acquisition Corp. I - Warrant   \n",
       "4      AADI               Aadi Bioscience, Inc. - Common Stock   \n",
       "...     ...                                                ...   \n",
       "5677  ZWRKU                   Z-Work Acquisition Corp. - Units   \n",
       "5678  ZWRKW                 Z-Work Acquisition Corp. - Warrant   \n",
       "5682     ZY                       Zymergen Inc. - Common Stock   \n",
       "5683   ZYNE       Zynerba Pharmaceuticals, Inc. - Common Stock   \n",
       "5684   ZYXI                         Zynex, Inc. - Common Stock   \n",
       "\n",
       "     Market Category ETF  \n",
       "0                  G   N  \n",
       "1                  G   N  \n",
       "2                  G   N  \n",
       "3                  G   N  \n",
       "4                  S   N  \n",
       "...              ...  ..  \n",
       "5677               S   N  \n",
       "5678               S   N  \n",
       "5682               Q   N  \n",
       "5683               G   N  \n",
       "5684               Q   N  \n",
       "\n",
       "[5399 rows x 4 columns]"
      ]
     },
     "execution_count": 4,
     "metadata": {},
     "output_type": "execute_result"
    }
   ],
   "source": [
    "tickers = pd.DataFrame(symbols[1:-1], columns=symbols[0])\n",
    "tickers.drop(columns='NextShares\\r\\n', inplace=True)\n",
    "tickers_used = tickers[tickers['Financial Status'] == 'N']\n",
    "tickers_used = tickers_used[tickers_used['Test Issue'] == 'N']\n",
    "tickers_used.drop(columns=['Financial Status', 'Test Issue', 'Round Lot Size'])"
   ]
  },
  {
   "cell_type": "markdown",
   "metadata": {},
   "source": [
    "## Get Market Cap of Stocks"
   ]
  },
  {
   "cell_type": "code",
   "execution_count": null,
   "metadata": {},
   "outputs": [
    {
     "name": "stdout",
     "output_type": "stream",
     "text": [
      "BND\n",
      "BNIX\n"
     ]
    }
   ],
   "source": [
    "def get_MC(ticker):\n",
    "    try:\n",
    "        mc = yf.Ticker(ticker).info['marketCap']\n",
    "    except:\n",
    "        print(ticker)\n",
    "        mc = 0\n",
    "    return mc\n",
    "\n",
    "tickers_used['Market Cap'] = tickers_used['Symbol'].apply(get_MC)"
   ]
  },
  {
   "cell_type": "code",
   "execution_count": null,
   "metadata": {},
   "outputs": [],
   "source": []
  }
 ],
 "metadata": {
  "kernelspec": {
   "display_name": "Python 3",
   "language": "python",
   "name": "python3"
  },
  "language_info": {
   "codemirror_mode": {
    "name": "ipython",
    "version": 3
   },
   "file_extension": ".py",
   "mimetype": "text/x-python",
   "name": "python",
   "nbconvert_exporter": "python",
   "pygments_lexer": "ipython3",
   "version": "3.8.5"
  }
 },
 "nbformat": 4,
 "nbformat_minor": 4
}
